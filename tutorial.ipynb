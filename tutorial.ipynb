{
 "cells": [
  {
   "cell_type": "code",
   "execution_count": 1,
   "id": "73bc4eb1",
   "metadata": {},
   "outputs": [],
   "source": [
    "import sympy as sp\n",
    "\n",
    "from symqups import s\n",
    "from symqups.objects.scalars import q, p, alpha, alphaD, W\n",
    "from symqups.objects.operators import qOp, pOp, annihilateOp, createOp, rho\n",
    "from symqups.utils.algebra import define\n",
    "from symqups.operations.quantization import s_quantize\n",
    "\n",
    "a = alpha()\n",
    "aop = annihilateOp()\n",
    "ad = alphaD()\n",
    "adop = createOp()\n",
    "x = sp.Symbol(\"x\")"
   ]
  },
  {
   "cell_type": "code",
   "execution_count": null,
   "id": "cd0c23cd",
   "metadata": {},
   "outputs": [
    {
     "data": {
      "text/plain": [
       "<symqups.s at 0x7e9b2b14a1b0>"
      ]
     },
     "execution_count": 2,
     "metadata": {},
     "output_type": "execute_result"
    }
   ],
   "source": [
    "inpt = 5*x*sp.exp(x)*ad**2*a**3\n",
    "\n",
    "s"
   ]
  }
 ],
 "metadata": {
  "kernelspec": {
   "display_name": "pyvenv",
   "language": "python",
   "name": "python3"
  },
  "language_info": {
   "codemirror_mode": {
    "name": "ipython",
    "version": 3
   },
   "file_extension": ".py",
   "mimetype": "text/x-python",
   "name": "python",
   "nbconvert_exporter": "python",
   "pygments_lexer": "ipython3",
   "version": "3.12.3"
  }
 },
 "nbformat": 4,
 "nbformat_minor": 5
}
