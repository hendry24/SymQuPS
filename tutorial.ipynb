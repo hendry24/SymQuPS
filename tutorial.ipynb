{
 "cells": [
  {
   "cell_type": "code",
   "execution_count": 17,
   "id": "73bc4eb1",
   "metadata": {},
   "outputs": [],
   "source": [
    "import sympy as sp\n",
    "\n",
    "from symqups.objects.scalars import q, p, alpha, alphaD, W\n",
    "from symqups.objects.operators import qOp, pOp, annihilateOp, createOp, rho\n",
    "from symqups.utils.algebra import define"
   ]
  },
  {
   "cell_type": "code",
   "execution_count": null,
   "id": "97bef37f",
   "metadata": {},
   "outputs": [
    {
     "data": {
      "text/latex": [
       "$\\displaystyle O\\left(\\hat{a}^{\\dagger}_{} \\hat{a}_{} \\hat{a}^{\\dagger}_{} \\hat{a}_{} \\hat{a}^{\\dagger}_{} \\hat{a}_{} \\hat{a}^{\\dagger}_{} \\hat{a}_{} \\hat{a}^{\\dagger}_{} \\hat{a}_{} \\hat{a}^{\\dagger}_{} \\hat{a}_{}; \\left( \\hat{a}_{}, \\  \\hat{a}^{\\dagger}_{}\\right)\\rightarrow \\left( 0, \\  0\\right)\\right)$"
      ],
      "text/plain": [
       "O(\\hat{a}^{\\dagger}_{}*\\hat{a}_{}*\\hat{a}^{\\dagger}_{}*\\hat{a}_{}*\\hat{a}^{\\dagger}_{}*\\hat{a}_{}*\\hat{a}^{\\dagger}_{}*\\hat{a}_{}*\\hat{a}^{\\dagger}_{}*\\hat{a}_{}*\\hat{a}^{\\dagger}_{}*\\hat{a}_{}, \\hat{a}_{}, \\hat{a}^{\\dagger}_{})"
      ]
     },
     "execution_count": 60,
     "metadata": {},
     "output_type": "execute_result"
    }
   ],
   "source": [
    "a = annihilateOp()\n",
    "ad = createOp()\n",
    "x = sp.Symbol(\"x\")"
   ]
  }
 ],
 "metadata": {
  "kernelspec": {
   "display_name": "pyvenv",
   "language": "python",
   "name": "python3"
  },
  "language_info": {
   "codemirror_mode": {
    "name": "ipython",
    "version": 3
   },
   "file_extension": ".py",
   "mimetype": "text/x-python",
   "name": "python",
   "nbconvert_exporter": "python",
   "pygments_lexer": "ipython3",
   "version": "3.12.3"
  }
 },
 "nbformat": 4,
 "nbformat_minor": 5
}
